{
 "cells": [
  {
   "cell_type": "code",
   "execution_count": 83,
   "id": "brown-coordinator",
   "metadata": {},
   "outputs": [
    {
     "name": "stdout",
     "output_type": "stream",
     "text": [
      "Requirement already satisfied: requests[security] in /Library/Frameworks/Python.framework/Versions/3.8/lib/python3.8/site-packages (2.25.1)\n",
      "Requirement already satisfied: chardet<5,>=3.0.2 in /Library/Frameworks/Python.framework/Versions/3.8/lib/python3.8/site-packages (from requests[security]) (3.0.4)\n",
      "Requirement already satisfied: certifi>=2017.4.17 in /Library/Frameworks/Python.framework/Versions/3.8/lib/python3.8/site-packages (from requests[security]) (2020.6.20)\n",
      "Requirement already satisfied: urllib3<1.27,>=1.21.1 in /Library/Frameworks/Python.framework/Versions/3.8/lib/python3.8/site-packages (from requests[security]) (1.26.2)\n",
      "Requirement already satisfied: idna<3,>=2.5 in /Library/Frameworks/Python.framework/Versions/3.8/lib/python3.8/site-packages (from requests[security]) (2.10)\n",
      "Requirement already satisfied: pyOpenSSL>=0.14 in /Library/Frameworks/Python.framework/Versions/3.8/lib/python3.8/site-packages (from requests[security]) (21.0.0)\n",
      "Requirement already satisfied: cryptography>=1.3.4 in /Library/Frameworks/Python.framework/Versions/3.8/lib/python3.8/site-packages (from requests[security]) (35.0.0)\n",
      "Requirement already satisfied: cffi>=1.12 in /Library/Frameworks/Python.framework/Versions/3.8/lib/python3.8/site-packages (from cryptography>=1.3.4->requests[security]) (1.14.4)\n",
      "Requirement already satisfied: six>=1.5.2 in /Users/sashakenkre/Library/Python/3.8/lib/python/site-packages (from pyOpenSSL>=0.14->requests[security]) (1.15.0)\n",
      "Requirement already satisfied: pycparser in /Library/Frameworks/Python.framework/Versions/3.8/lib/python3.8/site-packages (from cffi>=1.12->cryptography>=1.3.4->requests[security]) (2.20)\n",
      "Note: you may need to restart the kernel to use updated packages.\n"
     ]
    }
   ],
   "source": [
    "pip install \"requests[security]\""
   ]
  },
  {
   "cell_type": "code",
   "execution_count": 84,
   "id": "assisted-reach",
   "metadata": {},
   "outputs": [],
   "source": [
    "import os\n",
    "import numpy as np\n",
    "import pandas as pd\n",
    "from mtcnn.mtcnn import MTCNN\n",
    "import PIL\n",
    "from PIL import Image, ImageOps\n",
    "from numpy import asarray\n",
    "from os import listdir\n",
    "from os.path import isfile, join\n",
    "from scipy.spatial.distance import cosine\n",
    "from keras_vggface.vggface import VGGFace\n",
    "from keras_vggface.utils import preprocess_input\n",
    "from tqdm.notebook import tqdm\n",
    "import requests\n",
    "import cv2"
   ]
  },
  {
   "cell_type": "code",
   "execution_count": 85,
   "id": "rising-puzzle",
   "metadata": {},
   "outputs": [
    {
     "data": {
      "text/plain": [
       "'/Users/sashakenkre/Documents/umich/courses/fall2021/SI650/Project/images_db'"
      ]
     },
     "execution_count": 85,
     "metadata": {},
     "output_type": "execute_result"
    }
   ],
   "source": [
    "PATH = os.path.abspath(os.getcwd())+'/images_db'\n",
    "PATH"
   ]
  },
  {
   "cell_type": "code",
   "execution_count": 86,
   "id": "applied-exposure",
   "metadata": {},
   "outputs": [
    {
     "data": {
      "text/html": [
       "<div>\n",
       "<style scoped>\n",
       "    .dataframe tbody tr th:only-of-type {\n",
       "        vertical-align: middle;\n",
       "    }\n",
       "\n",
       "    .dataframe tbody tr th {\n",
       "        vertical-align: top;\n",
       "    }\n",
       "\n",
       "    .dataframe thead th {\n",
       "        text-align: right;\n",
       "    }\n",
       "</style>\n",
       "<table border=\"1\" class=\"dataframe\">\n",
       "  <thead>\n",
       "    <tr style=\"text-align: right;\">\n",
       "      <th></th>\n",
       "      <th>Unnamed: 0</th>\n",
       "      <th>DocId</th>\n",
       "      <th>subject</th>\n",
       "      <th>name</th>\n",
       "      <th>date_of_birth</th>\n",
       "      <th>place_of_birth</th>\n",
       "      <th>age</th>\n",
       "      <th>sex</th>\n",
       "      <th>height</th>\n",
       "      <th>race</th>\n",
       "      <th>hair</th>\n",
       "      <th>eyeColor</th>\n",
       "      <th>scars_and_marks</th>\n",
       "      <th>publication</th>\n",
       "      <th>details</th>\n",
       "      <th>description</th>\n",
       "      <th>fieldOffices</th>\n",
       "      <th>url</th>\n",
       "      <th>image</th>\n",
       "      <th>page</th>\n",
       "    </tr>\n",
       "  </thead>\n",
       "  <tbody>\n",
       "    <tr>\n",
       "      <th>0</th>\n",
       "      <td>0</td>\n",
       "      <td>1</td>\n",
       "      <td>Kidnappings and Missing Persons</td>\n",
       "      <td>Katelin Michelle Akens</td>\n",
       "      <td>NaN</td>\n",
       "      <td>NaN</td>\n",
       "      <td>19 years old (at time of disappearance)</td>\n",
       "      <td>Female</td>\n",
       "      <td>64.0</td>\n",
       "      <td>White</td>\n",
       "      <td>Blonde</td>\n",
       "      <td>Blue</td>\n",
       "      <td>Akens has a tattoo of five butterflies on her ...</td>\n",
       "      <td>2018-02-26</td>\n",
       "      <td>Katelin Michelle Akens was last seen on Decemb...</td>\n",
       "      <td>December 5, 2015, Partlow, Virgina</td>\n",
       "      <td>richmond</td>\n",
       "      <td>https://www.fbi.gov/wanted/kidnap/katelin-mich...</td>\n",
       "      <td>https://www.fbi.gov/wanted/kidnap/katelin-mich...</td>\n",
       "      <td>2</td>\n",
       "    </tr>\n",
       "    <tr>\n",
       "      <th>1</th>\n",
       "      <td>1</td>\n",
       "      <td>2</td>\n",
       "      <td>ViCAP Missing Persons</td>\n",
       "      <td>Caroline Lee Norris</td>\n",
       "      <td>NaN</td>\n",
       "      <td>NaN</td>\n",
       "      <td>60 years old (at time of disappearance)</td>\n",
       "      <td>Female</td>\n",
       "      <td>64.0</td>\n",
       "      <td>Black</td>\n",
       "      <td>Gray</td>\n",
       "      <td>NaN</td>\n",
       "      <td>Norris has a tattoo of a cat paw on her breast...</td>\n",
       "      <td>2020-11-20</td>\n",
       "      <td>Caroline Lee Norris was last seen on September...</td>\n",
       "      <td>September 11, 2019, Miami, Florida</td>\n",
       "      <td>NaN</td>\n",
       "      <td>https://www.fbi.gov/wanted/vicap/missing-perso...</td>\n",
       "      <td>https://www.fbi.gov/wanted/vicap/missing-perso...</td>\n",
       "      <td>3</td>\n",
       "    </tr>\n",
       "    <tr>\n",
       "      <th>2</th>\n",
       "      <td>2</td>\n",
       "      <td>3</td>\n",
       "      <td>ViCAP Missing Persons</td>\n",
       "      <td>Jesus De La Cruz</td>\n",
       "      <td>NaN</td>\n",
       "      <td>NaN</td>\n",
       "      <td>6 years old (at time of disappearance)</td>\n",
       "      <td>Male</td>\n",
       "      <td>54.0</td>\n",
       "      <td>White (Hispanic)</td>\n",
       "      <td>Brown</td>\n",
       "      <td>Brown</td>\n",
       "      <td>NaN</td>\n",
       "      <td>2021-09-28</td>\n",
       "      <td>Jesus de la Cruz was last seen on September 28...</td>\n",
       "      <td>September 28, 1996, Lynn, Massachusetts</td>\n",
       "      <td>NaN</td>\n",
       "      <td>https://www.fbi.gov/wanted/vicap/missing-perso...</td>\n",
       "      <td>https://www.fbi.gov/wanted/vicap/missing-perso...</td>\n",
       "      <td>3</td>\n",
       "    </tr>\n",
       "    <tr>\n",
       "      <th>3</th>\n",
       "      <td>3</td>\n",
       "      <td>4</td>\n",
       "      <td>Kidnappings and Missing Persons</td>\n",
       "      <td>Aranza Maria Ochoa Lopez</td>\n",
       "      <td>April 17, 2014</td>\n",
       "      <td>Centralia, Washington</td>\n",
       "      <td>NaN</td>\n",
       "      <td>Female</td>\n",
       "      <td>40.0</td>\n",
       "      <td>White (Hispanic)</td>\n",
       "      <td>Blonde/light brown  (at time of disappearance)</td>\n",
       "      <td>Blue</td>\n",
       "      <td>Aranza has pierced ears.</td>\n",
       "      <td>2019-05-06</td>\n",
       "      <td>The FBI's Seattle Field Office is assisting th...</td>\n",
       "      <td>October 25, 2018, Vancouver, Washington</td>\n",
       "      <td>seattle</td>\n",
       "      <td>https://www.fbi.gov/wanted/kidnap/aranza-maria...</td>\n",
       "      <td>https://www.fbi.gov/wanted/kidnap/aranza-maria...</td>\n",
       "      <td>3</td>\n",
       "    </tr>\n",
       "    <tr>\n",
       "      <th>4</th>\n",
       "      <td>4</td>\n",
       "      <td>5</td>\n",
       "      <td>ViCAP Missing Persons</td>\n",
       "      <td>Mitchell Todd Hein</td>\n",
       "      <td>NaN</td>\n",
       "      <td>NaN</td>\n",
       "      <td>Approximately 22 years old</td>\n",
       "      <td>Male</td>\n",
       "      <td>70.0</td>\n",
       "      <td>White</td>\n",
       "      <td>Brown/auburn and naturally curly</td>\n",
       "      <td>Brown</td>\n",
       "      <td>The victim had a major scar on his knee and a ...</td>\n",
       "      <td>2020-12-10</td>\n",
       "      <td>Jefferson County Sheriff’s Office in Colorado ...</td>\n",
       "      <td>Indio, California, February 1, 1983</td>\n",
       "      <td>NaN</td>\n",
       "      <td>https://www.fbi.gov/wanted/vicap/missing-perso...</td>\n",
       "      <td>https://www.fbi.gov/wanted/vicap/missing-perso...</td>\n",
       "      <td>3</td>\n",
       "    </tr>\n",
       "  </tbody>\n",
       "</table>\n",
       "</div>"
      ],
      "text/plain": [
       "   Unnamed: 0  DocId                          subject  \\\n",
       "0           0      1  Kidnappings and Missing Persons   \n",
       "1           1      2            ViCAP Missing Persons   \n",
       "2           2      3            ViCAP Missing Persons   \n",
       "3           3      4  Kidnappings and Missing Persons   \n",
       "4           4      5            ViCAP Missing Persons   \n",
       "\n",
       "                       name   date_of_birth         place_of_birth  \\\n",
       "0    Katelin Michelle Akens             NaN                    NaN   \n",
       "1       Caroline Lee Norris             NaN                    NaN   \n",
       "2          Jesus De La Cruz             NaN                    NaN   \n",
       "3  Aranza Maria Ochoa Lopez  April 17, 2014  Centralia, Washington   \n",
       "4        Mitchell Todd Hein             NaN                    NaN   \n",
       "\n",
       "                                       age     sex  height              race  \\\n",
       "0  19 years old (at time of disappearance)  Female    64.0             White   \n",
       "1  60 years old (at time of disappearance)  Female    64.0             Black   \n",
       "2   6 years old (at time of disappearance)    Male    54.0  White (Hispanic)   \n",
       "3                                      NaN  Female    40.0  White (Hispanic)   \n",
       "4               Approximately 22 years old    Male    70.0             White   \n",
       "\n",
       "                                             hair eyeColor  \\\n",
       "0                                          Blonde     Blue   \n",
       "1                                            Gray      NaN   \n",
       "2                                           Brown    Brown   \n",
       "3  Blonde/light brown  (at time of disappearance)     Blue   \n",
       "4                Brown/auburn and naturally curly    Brown   \n",
       "\n",
       "                                     scars_and_marks publication  \\\n",
       "0  Akens has a tattoo of five butterflies on her ...  2018-02-26   \n",
       "1  Norris has a tattoo of a cat paw on her breast...  2020-11-20   \n",
       "2                                                NaN  2021-09-28   \n",
       "3                           Aranza has pierced ears.  2019-05-06   \n",
       "4  The victim had a major scar on his knee and a ...  2020-12-10   \n",
       "\n",
       "                                             details  \\\n",
       "0  Katelin Michelle Akens was last seen on Decemb...   \n",
       "1  Caroline Lee Norris was last seen on September...   \n",
       "2  Jesus de la Cruz was last seen on September 28...   \n",
       "3  The FBI's Seattle Field Office is assisting th...   \n",
       "4  Jefferson County Sheriff’s Office in Colorado ...   \n",
       "\n",
       "                               description fieldOffices  \\\n",
       "0       December 5, 2015, Partlow, Virgina     richmond   \n",
       "1       September 11, 2019, Miami, Florida          NaN   \n",
       "2  September 28, 1996, Lynn, Massachusetts          NaN   \n",
       "3  October 25, 2018, Vancouver, Washington      seattle   \n",
       "4      Indio, California, February 1, 1983          NaN   \n",
       "\n",
       "                                                 url  \\\n",
       "0  https://www.fbi.gov/wanted/kidnap/katelin-mich...   \n",
       "1  https://www.fbi.gov/wanted/vicap/missing-perso...   \n",
       "2  https://www.fbi.gov/wanted/vicap/missing-perso...   \n",
       "3  https://www.fbi.gov/wanted/kidnap/aranza-maria...   \n",
       "4  https://www.fbi.gov/wanted/vicap/missing-perso...   \n",
       "\n",
       "                                               image  page  \n",
       "0  https://www.fbi.gov/wanted/kidnap/katelin-mich...     2  \n",
       "1  https://www.fbi.gov/wanted/vicap/missing-perso...     3  \n",
       "2  https://www.fbi.gov/wanted/vicap/missing-perso...     3  \n",
       "3  https://www.fbi.gov/wanted/kidnap/aranza-maria...     3  \n",
       "4  https://www.fbi.gov/wanted/vicap/missing-perso...     3  "
      ]
     },
     "execution_count": 86,
     "metadata": {},
     "output_type": "execute_result"
    }
   ],
   "source": [
    "data = pd.read_csv('mp_db.csv')\n",
    "data.head()"
   ]
  },
  {
   "cell_type": "code",
   "execution_count": 87,
   "id": "victorian-bonus",
   "metadata": {},
   "outputs": [],
   "source": [
    "#Get names for images and save image from url\n",
    "# for i, url in tqdm(enumerate(data.image)):\n",
    "#     if 'kidnap/' in url:\n",
    "#         name = url.replace('/', '-').replace('.','-').split(\"kidnap-\")[1].split('-')[:2]\n",
    "#         result = ''.join(name)\n",
    "#     elif 'seeking-info/' in url:\n",
    "#         name = url.replace('/', '-').replace('.','-').split(\"info-\")[1].split('-')[:2]\n",
    "#         result = ''.join(name)\n",
    "#     else:\n",
    "#         name = url.replace('/', '-').replace('.','-').split(\"persons-\")[1].split('-')[:2]\n",
    "#         result = ''.join(name)\n",
    "#     with open('image_db/'+result+'.jpeg', 'wb') as f:\n",
    "#         f.write(requests.get(url).content)"
   ]
  },
  {
   "cell_type": "code",
   "execution_count": 88,
   "id": "apart-salvation",
   "metadata": {},
   "outputs": [],
   "source": [
    "# extract a single face from a given photograph\n",
    "def extract_face(filename, required_size=(224, 224)):\n",
    "    # load image from file\n",
    "    im = Image.open(filename, mode='r')\n",
    "    if im.mode != 'RGB':\n",
    "        pixels = np.array(Image.open(filename, mode='r').convert('RGB'))\n",
    "        \n",
    "    elif im.mode == 'RGB':\n",
    "        pixels = np.array(Image.open(filename, mode='r'))\n",
    "#     pixels = np.array(PIL.ImageEnhance.Color(img).enhance(0))\n",
    "        \n",
    "    # create the detector, using default weights\n",
    "    detector = MTCNN()\n",
    "    # detect faces in the image\n",
    "    results = detector.detect_faces(pixels)\n",
    "    # extract the bounding box from the first face\n",
    "    x1, y1, width, height = results[0]['box']\n",
    "    x2, y2 = x1 + width, y1 + height\n",
    "    # extract the face\n",
    "    face = pixels[y1:y2, x1:x2]\n",
    "    # resize pixels to the model size\n",
    "    image = Image.fromarray(face)\n",
    "    image = image.resize(required_size)\n",
    "    face_array = asarray(image)\n",
    "    return face_array\n",
    " \n",
    "# extract faces and calculate face embeddings for a list of photo files\n",
    "def get_embeddings(filenames):\n",
    "    names = [f for f in filenames]\n",
    "    # extract faces \n",
    "    faces = [extract_face(f) for f in tqdm(filenames)]\n",
    "    # convert into an array of samples\n",
    "    samples = asarray(faces, 'float32')\n",
    "    # prepare the face for the model, e.g. center pixels\n",
    "    samples = preprocess_input(samples, version=2)\n",
    "    # create a vggface model\n",
    "    model = VGGFace(model='resnet50', include_top=False, input_shape=(224, 224, 3), pooling='avg')\n",
    "    # perform prediction\n",
    "    yhat = model.predict(samples)\n",
    "    \n",
    "    d = []\n",
    "    for name, face in zip(names, yhat):\n",
    "        d.append([name, face])\n",
    "    return d\n",
    "    \n"
   ]
  },
  {
   "cell_type": "code",
   "execution_count": 89,
   "id": "artificial-bowling",
   "metadata": {},
   "outputs": [],
   "source": [
    "# embeddings = get_embeddings(hold)\n",
    "# print(embeddings)"
   ]
  },
  {
   "cell_type": "code",
   "execution_count": 90,
   "id": "structured-mount",
   "metadata": {},
   "outputs": [],
   "source": [
    "import pickle\n",
    "\n",
    "# with open('dataset_faces.dat', 'wb') as f:\n",
    "#     pickle.dump(embeddings, f)"
   ]
  },
  {
   "cell_type": "code",
   "execution_count": 91,
   "id": "electrical-chester",
   "metadata": {},
   "outputs": [],
   "source": [
    "with open('dataset_faces.dat', 'rb') as f:\n",
    "    all_face_encodings = pickle.load(f)"
   ]
  },
  {
   "cell_type": "code",
   "execution_count": 92,
   "id": "royal-spread",
   "metadata": {},
   "outputs": [],
   "source": [
    "def get_single_embedding(filename):\n",
    "    # extract faces \n",
    "    face = extract_face(filename)\n",
    "\n",
    "    # convert into an array of samples\n",
    "    sample = asarray(face, 'float32')\n",
    "\n",
    "    # # prepare the face for the model, e.g. center pixels\n",
    "    sample = preprocess_input(sample, version=2)\n",
    "    sample\n",
    "    # # create a vggface model\n",
    "    model = VGGFace(model='resnet50', include_top=False, input_shape=(224, 224, 3), pooling='avg')\n",
    "    model\n",
    "\n",
    "    img = cv2.resize(sample,(224,224))     # resize image to match model's expected sizing\n",
    "    img = img.reshape(1,224,224,3)\n",
    "    # # perform prediction\n",
    "    yhat = model.predict(img)\n",
    "    for x in yhat:\n",
    "        \n",
    "        d = [filename, x]\n",
    "    return d"
   ]
  },
  {
   "cell_type": "code",
   "execution_count": 93,
   "id": "comprehensive-balloon",
   "metadata": {},
   "outputs": [
    {
     "data": {
      "text/plain": [
       "['test/myra.jpeg',\n",
       " array([0.       , 4.141911 , 3.5368783, ..., 0.       , 0.9080277,\n",
       "        2.068684 ], dtype=float32)]"
      ]
     },
     "execution_count": 93,
     "metadata": {},
     "output_type": "execute_result"
    }
   ],
   "source": [
    "test = get_single_embedding('test/myra.jpeg')\n",
    "test"
   ]
  },
  {
   "cell_type": "code",
   "execution_count": 94,
   "id": "economic-consensus",
   "metadata": {},
   "outputs": [],
   "source": [
    "all_face_encodings.insert(0, test)"
   ]
  },
  {
   "cell_type": "code",
   "execution_count": 95,
   "id": "sealed-owner",
   "metadata": {},
   "outputs": [],
   "source": [
    "#use cosine similarity to make matches\n",
    "def is_match(candidate_embedding, thresh=0.5):\n",
    "    scores = []\n",
    "    for i in range(len(all_face_encodings)):\n",
    "        hold = []\n",
    "    # calculate distance between embeddings\n",
    "        score = cosine(all_face_encodings[0][1], all_face_encodings[i][1])\n",
    "        \n",
    "        if score <= thresh:\n",
    "            hold.append([all_face_encodings[i][0], score])\n",
    "        scores.append(hold)\n",
    "    return scores"
   ]
  },
  {
   "cell_type": "code",
   "execution_count": 96,
   "id": "vietnamese-sherman",
   "metadata": {},
   "outputs": [
    {
     "name": "stdout",
     "output_type": "stream",
     "text": [
      "Positive Tests\n"
     ]
    },
    {
     "data": {
      "text/plain": [
       "[['test/myra.jpeg', 0.0],\n",
       " ['images/vanessamorales.jpeg', 0.45487719774246216],\n",
       " ['images/diamondyvette.jpeg', 0.3312903046607971],\n",
       " ['images/alexiss.jpeg', 0.49289804697036743],\n",
       " ['images/aranzamaria.jpeg', 0.4873958230018616],\n",
       " ['images/tiondaz.jpeg', 0.4949183464050293],\n",
       " ['images/rondreizphillips.jpeg', 0.43927836418151855],\n",
       " ['images/myralewis.jpeg', 0.376883864402771]]"
      ]
     },
     "execution_count": 96,
     "metadata": {},
     "output_type": "execute_result"
    }
   ],
   "source": [
    "#Get matches\n",
    "print('Positive Tests')\n",
    "\n",
    "q = is_match(all_face_encodings)\n",
    "f = []\n",
    "for x in q:\n",
    "    for y in x:\n",
    "        f.append(y)\n",
    "f"
   ]
  },
  {
   "cell_type": "code",
   "execution_count": 97,
   "id": "closing-nashville",
   "metadata": {},
   "outputs": [
    {
     "data": {
      "text/plain": [
       "['images/diamondyvette.jpeg', 0.3312903046607971]"
      ]
     },
     "execution_count": 97,
     "metadata": {},
     "output_type": "execute_result"
    }
   ],
   "source": [
    "#Sort the results and get the top 1\n",
    "result = sorted(f, key = lambda x: x[1], reverse=False)[:4]\n",
    "result.pop(0)\n",
    "result[0]"
   ]
  }
 ],
 "metadata": {
  "kernelspec": {
   "display_name": "Python 3",
   "language": "python",
   "name": "python3"
  },
  "language_info": {
   "codemirror_mode": {
    "name": "ipython",
    "version": 3
   },
   "file_extension": ".py",
   "mimetype": "text/x-python",
   "name": "python",
   "nbconvert_exporter": "python",
   "pygments_lexer": "ipython3",
   "version": "3.8.5"
  }
 },
 "nbformat": 4,
 "nbformat_minor": 5
}
